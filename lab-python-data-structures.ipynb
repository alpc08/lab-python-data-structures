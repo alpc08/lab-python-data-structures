{
 "cells": [
  {
   "cell_type": "markdown",
   "metadata": {
    "tags": []
   },
   "source": [
    "# Lab | Data Structures "
   ]
  },
  {
   "cell_type": "markdown",
   "metadata": {},
   "source": [
    "## Exercise: Managing Customer Orders\n",
    "\n",
    "As part of a business venture, you are starting an online store that sells various products. To ensure smooth operations, you need to develop a program that manages customer orders and inventory.\n",
    "\n",
    "Follow the steps below to complete the exercise:\n",
    "\n",
    "1. Define a list called `products` that contains the following items: \"t-shirt\", \"mug\", \"hat\", \"book\", \"keychain\".\n",
    "\n",
    "2. Create an empty dictionary called `inventory`.\n",
    "\n",
    "3. Ask the user to input the quantity of each product available in the inventory. Use the product names from the `products` list as keys in the `inventory` dictionary and assign the respective quantities as values.\n",
    "\n",
    "4. Create an empty set called `customer_orders`.\n",
    "\n",
    "5. Ask the user to input the name of three products that a customer wants to order (from those in the products list, meaning three products out of \"t-shirt\", \"mug\", \"hat\", \"book\" or \"keychain\". Add each product name to the `customer_orders` set.\n",
    "\n",
    "6. Print the products in the `customer_orders` set.\n",
    "\n",
    "7. Calculate the following order statistics:\n",
    "   - Total Products Ordered: The total number of products in the `customer_orders` set.\n",
    "   - Percentage of Products Ordered: The percentage of products ordered compared to the total available products.\n",
    "   \n",
    "   Store these statistics in a tuple called `order_status`.\n",
    "\n",
    "8. Print the order statistics using the following format:\n",
    "   ```\n",
    "   Order Statistics:\n",
    "   Total Products Ordered: <total_products_ordered>\n",
    "   Percentage of Products Ordered: <percentage_ordered>% \n",
    "   ```\n",
    "\n",
    "9. Update the inventory by subtracting 1 from the quantity of each product. Modify the `inventory` dictionary accordingly.\n",
    "\n",
    "10. Print the updated inventory, displaying the quantity of each product on separate lines.\n",
    "\n",
    "Solve the exercise by implementing the steps using the Python concepts of lists, dictionaries, sets, and basic input/output operations. "
   ]
  },
  {
   "cell_type": "code",
   "execution_count": 9,
   "metadata": {
    "scrolled": true
   },
   "outputs": [
    {
     "name": "stdout",
     "output_type": "stream",
     "text": [
      "What's the quantity of t-shirt that you need to insert? 2\n",
      "What's the quantity of mug that you need to insert? 2\n",
      "What's the quantity of hat that you need to insert? 2\n",
      "What's the quantity of book that you need to insert? 2\n",
      "What's the quantity of keychain that you need to insert? 2\n",
      "Please enter 3 products of this products to finish your order: ['t-shirt', 'mug', 'hat', 'book', 'keychain']mug\n",
      "Please enter 2 products of this products to finish your order: ['t-shirt', 'mug', 'hat', 'book', 'keychain']mug\n",
      "Please enter 1 products of this products to finish your order: ['t-shirt', 'mug', 'hat', 'book', 'keychain']hat\n",
      "You need to choose 1 diferente products from ['t-shirt', 'mug', 'hat', 'book', 'keychain']book\n",
      "{'hat', 'book', 'mug'}\n",
      "Order Statistics: \n",
      "Total Products Ordered: 3\n",
      "Percentage of Products Ordered: 60.0%\n",
      "t-shirt 1\n",
      "mug 1\n",
      "hat 1\n",
      "book 1\n",
      "keychain 1\n"
     ]
    }
   ],
   "source": [
    "products = [\"t-shirt\", \"mug\", \"hat\", \"book\", \"keychain\"]\n",
    "inventory = {}\n",
    "\n",
    "for product in products:    \n",
    "    user = input(f\"What's the quantity of {product} that you need to insert? \")\n",
    "    inventory[product] = int(user)\n",
    "\n",
    "\n",
    "customer_orders = set()\n",
    "x=3\n",
    "\n",
    "for order in inventory:    \n",
    "    if x>0:\n",
    "        customer = input(f\"Please enter {x} products of this products to finish your order: {products}\")\n",
    "        customer_orders.add(customer)\n",
    "        x-=1  \n",
    "\n",
    "if len(customer_orders) < 3:\n",
    "    x = 3 - len(customer_orders)\n",
    "    for order in inventory:2\n",
    "        if x>0:\n",
    "            customer = input(f\"You need to choose {x} diferente products from {products}\") \n",
    "            customer_orders.add(customer)\n",
    "            x-=1\n",
    "    \n",
    "print(customer_orders)\n",
    "\n",
    "total_products_ordered = len(customer_orders)\n",
    "percentage_ordered = total_products_ordered/len(inventory)*100\n",
    "\n",
    "print(\"Order Statistics: \")\n",
    "print(f\"Total Products Ordered: {total_products_ordered}\")\n",
    "print(f\"Percentage of Products Ordered: {percentage_ordered}%\")\n",
    "\n",
    "for product in inventory:\n",
    "    inventory[product] -=1\n",
    "\n",
    "for product , value in inventory.items():\n",
    "    print(product, value)    "
   ]
  }
 ],
 "metadata": {
  "kernelspec": {
   "display_name": "Python 3 (ipykernel)",
   "language": "python",
   "name": "python3"
  },
  "language_info": {
   "codemirror_mode": {
    "name": "ipython",
    "version": 3
   },
   "file_extension": ".py",
   "mimetype": "text/x-python",
   "name": "python",
   "nbconvert_exporter": "python",
   "pygments_lexer": "ipython3",
   "version": "3.11.5"
  }
 },
 "nbformat": 4,
 "nbformat_minor": 4
}
